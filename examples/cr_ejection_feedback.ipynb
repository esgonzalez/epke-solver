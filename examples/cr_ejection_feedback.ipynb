{
 "cells": [
  {
   "cell_type": "markdown",
   "metadata": {
    "collapsed": true
   },
   "source": [
    "# Precomputed Reactivity for a Control Rod Ejection"
   ]
  },
  {
   "cell_type": "markdown",
   "metadata": {},
   "source": [
    "## Helper Functions"
   ]
  },
  {
   "cell_type": "code",
   "execution_count": 1,
   "metadata": {},
   "outputs": [],
   "source": [
    "import xml.etree.ElementTree as ET\n",
    "from xml.dom import minidom\n",
    "\n",
    "class Precursor:\n",
    "    def __init__(self, decay_constant, beta):\n",
    "        self.decay_constant = decay_constant\n",
    "        self.beta = beta\n",
    "        \n",
    "class Precomp:\n",
    "    def __init__(self, time, power, rho, concentrations):\n",
    "        self.time = time\n",
    "        self.power = power\n",
    "        self.rho  = rho\n",
    "        self.concentrations = concentrations\n",
    "        \n",
    "class Params:\n",
    "    def __init__(self, time, rho_imp, lambda_h, gen_time,\n",
    "                 pow_norm, beta_sum, theta, gamma_d, eta,\n",
    "                 interpolated):\n",
    "        self.time = time\n",
    "        self.rho_imp = rho_imp\n",
    "        self.lambda_h = lambda_h\n",
    "        self.gen_time = gen_time\n",
    "        self.pow_norm = pow_norm\n",
    "        self.beta_sum = beta_sum\n",
    "        self.theta = theta\n",
    "        self.gamma_d = gamma_d\n",
    "        self.eta = eta\n",
    "        self.interpolated = interpolated\n",
    "\n",
    "def write_input_xml(precomp, params, precursors):\n",
    "    parareal = ET.Element(\"parareal\", \n",
    "                          outpath=\"examples/epke_output.xml\", \n",
    "                          max_iterations=str(1), \n",
    "                          n_fine_per_coarse=str(1))\n",
    "    \n",
    "    # epke precomputed values (initial conditions)\n",
    "    epke_output = ET.SubElement(parareal,\"epke_output\", n_steps=str(len(precomp.time)))\n",
    "    ET.SubElement(epke_output, \"time\").text = ' '.join(map(str,precomp.time))\n",
    "    ET.SubElement(epke_output, \"power\").text = ' '.join(map(str,precomp.power))\n",
    "    ET.SubElement(epke_output, \"rho\").text = ' '.join(map(str,precomp.rho))\n",
    "    concentrations_element = ET.SubElement(epke_output, \"concentrations\")\n",
    "    \n",
    "    # epke parameters\n",
    "    epke_input = ET.SubElement(parareal,\"epke_input\", \n",
    "                               n_steps=str(len(params.time)), \n",
    "                               theta=str(params.theta), \n",
    "                               gamma_d=str(params.gamma_d),\n",
    "                               eta=str(params.eta), \n",
    "                               interpolated=str(params.interpolated).lower())\n",
    "    \n",
    "    ET.SubElement(epke_input, \"time\").text = ' '.join(map(str, params.time))\n",
    "    ET.SubElement(epke_input, \"rho_imp\").text = ' '.join(map(str, params.rho_imp))\n",
    "    \n",
    "    if (params.gen_time is not None):\n",
    "        ET.SubElement(epke_input, \"gen_time\").text = ' '.join(map(str, params.gen_time))\n",
    "    else:\n",
    "        ET.SubElement(epke_input, \"gen_time\", value=\"1.58e-5\")\n",
    "    \n",
    "    if (params.pow_norm is not None):\n",
    "        ET.SubElement(epke_input, \"pow_norm\").text = ' '.join(map(str, params.pow_norm))\n",
    "    else:\n",
    "        ET.SubElement(epke_input, \"pow_norm\", value=\"1.0\")\n",
    "    \n",
    "    ET.SubElement(epke_input, \"beta_eff\", value=str(params.beta_sum))\n",
    "    ET.SubElement(epke_input, \"lambda_h\").text = ' '.join(map(str,params.lambda_h))\n",
    "    \n",
    "    precursors_element = ET.SubElement(epke_input, \"precursors\")\n",
    "    for k, precursor in enumerate(precursors):\n",
    "        precursor_element = ET.SubElement(precursors_element, \"precursor\", k=str(k))\n",
    "        ET.SubElement(precursor_element, \"decay_constant\", value=str(precursor.decay_constant))\n",
    "        ET.SubElement(precursor_element, \"delayed_fraction\", value=str(precursor.beta))\n",
    "        ET.SubElement(concentrations_element, \"concentration\", \n",
    "                      k=str(k)).text = ' '.join(map(str, precomp.concentrations[k])) \n",
    "    \n",
    "    # pretty print and write to xml\n",
    "    xmlstr = minidom.parseString(ET.tostring(parareal)).toprettyxml(indent=\" \")\n",
    "    \n",
    "    with open(\"epke_input.xml\", \"w\") as f:\n",
    "        f.write(xmlstr)"
   ]
  },
  {
   "cell_type": "markdown",
   "metadata": {},
   "source": [
    "## Write Input Data to XML File"
   ]
  },
  {
   "cell_type": "code",
   "execution_count": 2,
   "metadata": {},
   "outputs": [],
   "source": [
    "import numpy as np\n",
    "\n",
    "t_load, rho_imp_load, gen_time_load, pow_norm_load, \\\n",
    "relative_power_load = np.loadtxt(\"cr_ejection_parcs.txt\",\n",
    "                                 unpack=True,skiprows=2)\n",
    "\n",
    "t_step = 100\n",
    "t = np.linspace(0,max(t_load),int(max(t_load))*t_step+1)\n",
    "\n",
    "rho_imp_parcs = np.interp(t,t_load,rho_imp_load)\n",
    "\n",
    "rho_imp = np.copy(rho_imp_parcs)\n",
    "rho_max = max(rho_imp_parcs)\n",
    "for i in range(len(rho_imp)):\n",
    "    if (rho_imp[i] >= rho_max):\n",
    "        break\n",
    "rho_imp[i:] = rho_max\n",
    "\n",
    "gen_time = np.interp(t,t_load,gen_time_load)\n",
    "pow_norm = np.interp(t,t_load,pow_norm_load)\n",
    "relative_power = np.interp(t,t_load,relative_power_load)\n",
    "\n",
    "\n",
    "t = t[:6*t_step]\n",
    "rho_imp = rho_imp[:6*t_step]\n",
    "rho_imp_parcs = rho_imp_parcs[:6*t_step]\n",
    "gen_time = gen_time[:6*t_step]\n",
    "pow_norm = pow_norm[:6*t_step]\n",
    "relative_power = relative_power[:6*t_step]\n",
    "\n",
    "precursors = [Precursor(0.0128, 0.02584e-2), Precursor(0.0318, 0.152e-2),\n",
    "              Precursor(0.119, 0.13908e-2), Precursor(0.3181, 0.30704e-2),\n",
    "              Precursor(1.4027, 0.1102e-2), Precursor(3.9286, 0.02584e-2)]\n",
    "beta_sum = sum([p.beta for p in precursors])\n",
    "beta_eff = beta_sum * np.ones(len(t))\n",
    "lambduh_h = 0.29 * np.ones(len(t))\n",
    "rho_imp *= beta_sum\n",
    "gamma_d = -1.22 * beta_sum\n",
    "theta = 0.5\n",
    "eta = 1.0\n",
    "interpolated = True\n",
    "\n",
    "params = Params(t, rho_imp, lambduh_h, gen_time, \n",
    "                pow_norm, beta_sum, theta, gamma_d, \n",
    "                eta, interpolated)\n",
    "\n",
    "# generate the initial conditions\n",
    "precomp_time = [0.0]\n",
    "precomp_power = [1e-6]\n",
    "precomp_rho = [rho_imp[0]]\n",
    "precomp_concentrations = []\n",
    "\n",
    "for j, precursor in enumerate(precursors):\n",
    "    initial_concentration = precursor.beta*precomp_power[0]/precursor.decay_constant\n",
    "    precomp_concentrations.append([initial_concentration])\n",
    "\n",
    "precomp = Precomp(precomp_time, precomp_power, \n",
    "                  precomp_rho, precomp_concentrations)\n",
    "    \n",
    "# write to xml\n",
    "write_input_xml(precomp, params, precursors)"
   ]
  },
  {
   "cell_type": "markdown",
   "metadata": {},
   "source": [
    "## Run the EPKE Executable"
   ]
  },
  {
   "cell_type": "code",
   "execution_count": 3,
   "metadata": {},
   "outputs": [
    {
     "name": "stdout",
     "output_type": "stream",
     "text": [
      "Reading input file: examples/epke_input.xml\n",
      "Solving...\n"
     ]
    }
   ],
   "source": [
    "import subprocess\n",
    "\n",
    "args = \"./epke-run examples/epke_input.xml\".split()\n",
    "popen = subprocess.Popen(args, cwd=\"..\", stdout=subprocess.PIPE)\n",
    "popen.wait()\n",
    "while True:\n",
    "    line = popen.stdout.readline()\n",
    "    if not line:\n",
    "        break\n",
    "    print(line.rstrip().decode('utf-8'))"
   ]
  },
  {
   "cell_type": "markdown",
   "metadata": {},
   "source": [
    "## Read the XML Output"
   ]
  },
  {
   "cell_type": "code",
   "execution_count": 4,
   "metadata": {},
   "outputs": [
    {
     "ename": "AttributeError",
     "evalue": "'NoneType' object has no attribute 'find'",
     "output_type": "error",
     "traceback": [
      "\u001b[0;31m---------------------------------------------------------------------------\u001b[0m",
      "\u001b[0;31mAttributeError\u001b[0m                            Traceback (most recent call last)",
      "\u001b[0;32m<ipython-input-4-1eb6df2fb2a3>\u001b[0m in \u001b[0;36m<module>\u001b[0;34m\u001b[0m\n\u001b[1;32m     12\u001b[0m         \u001b[0mrho_out\u001b[0m \u001b[0;34m=\u001b[0m \u001b[0mnp\u001b[0m\u001b[0;34m.\u001b[0m\u001b[0mfromstring\u001b[0m\u001b[0;34m(\u001b[0m\u001b[0mchild\u001b[0m\u001b[0;34m.\u001b[0m\u001b[0mtext\u001b[0m\u001b[0;34m,\u001b[0m \u001b[0mdtype\u001b[0m\u001b[0;34m=\u001b[0m\u001b[0mfloat\u001b[0m\u001b[0;34m,\u001b[0m \u001b[0msep\u001b[0m\u001b[0;34m=\u001b[0m\u001b[0;34m' '\u001b[0m\u001b[0;34m)\u001b[0m\u001b[0;34m\u001b[0m\u001b[0;34m\u001b[0m\u001b[0m\n\u001b[1;32m     13\u001b[0m \u001b[0;34m\u001b[0m\u001b[0m\n\u001b[0;32m---> 14\u001b[0;31m \u001b[0mrho_imp_out\u001b[0m \u001b[0;34m=\u001b[0m \u001b[0mnp\u001b[0m\u001b[0;34m.\u001b[0m\u001b[0mfromstring\u001b[0m\u001b[0;34m(\u001b[0m\u001b[0mepke_params\u001b[0m\u001b[0;34m.\u001b[0m\u001b[0mfind\u001b[0m\u001b[0;34m(\u001b[0m\u001b[0;34m'rho_imp'\u001b[0m\u001b[0;34m)\u001b[0m\u001b[0;34m.\u001b[0m\u001b[0mtext\u001b[0m\u001b[0;34m,\u001b[0m \u001b[0mdtype\u001b[0m\u001b[0;34m=\u001b[0m\u001b[0mfloat\u001b[0m\u001b[0;34m,\u001b[0m \u001b[0msep\u001b[0m\u001b[0;34m=\u001b[0m\u001b[0;34m' '\u001b[0m\u001b[0;34m)\u001b[0m\u001b[0;34m\u001b[0m\u001b[0;34m\u001b[0m\u001b[0m\n\u001b[0m",
      "\u001b[0;31mAttributeError\u001b[0m: 'NoneType' object has no attribute 'find'"
     ]
    }
   ],
   "source": [
    "tree = ET.parse('epke_output.xml')\n",
    "root = tree.getroot()\n",
    "epke_output = root.find('epke_output')\n",
    "epke_params = root.find('epke_input')\n",
    "\n",
    "for child in epke_output:\n",
    "    if (child.tag == 'time'):\n",
    "        time_out = np.fromstring(child.text, dtype=float, sep=' ')\n",
    "    if (child.tag == 'power'):\n",
    "        p_out = np.fromstring(child.text, dtype=float, sep=' ')\n",
    "    if (child.tag == 'rho'):\n",
    "        rho_out = np.fromstring(child.text, dtype=float, sep=' ')\n",
    "        \n",
    "rho_imp_out = np.fromstring(epke_params.find('rho_imp').text, dtype=float, sep=' ')"
   ]
  },
  {
   "cell_type": "markdown",
   "metadata": {},
   "source": [
    "## Plot the Reactivity"
   ]
  },
  {
   "cell_type": "code",
   "execution_count": null,
   "metadata": {},
   "outputs": [],
   "source": [
    "import matplotlib as mpl\n",
    "import matplotlib.pyplot as plt\n",
    "%matplotlib inline\n",
    "\n",
    "# Make inline plots vector graphics instead of raster graphics\n",
    "from IPython.display import set_matplotlib_formats\n",
    "set_matplotlib_formats('pdf', 'svg')\n",
    "\n",
    "mpl.rcParams[\"axes.spines.right\"] = False\n",
    "mpl.rcParams[\"axes.spines.top\"] = False\n",
    "\n",
    "ax = plt.subplot(111)\n",
    "ax.plot(t,rho_imp_parcs,label='PARCS')\n",
    "ax.plot(time_out,rho_imp_out/beta_sum,label='EPKE (Imposed)')\n",
    "ax.plot(time_out,rho_out/beta_sum,label='EPKE (Linear Doppler Feedback)')\n",
    "ax.spines['right'].set_visible(False)\n",
    "ax.spines['top'].set_visible(False)\n",
    "plt.xlabel('$t$ [s]')\n",
    "plt.ylabel('$\\\\rho(t)$ [\\$]')\n",
    "plt.legend()\n",
    "plt.show()"
   ]
  },
  {
   "cell_type": "markdown",
   "metadata": {},
   "source": [
    "## Plot the Power"
   ]
  },
  {
   "cell_type": "code",
   "execution_count": null,
   "metadata": {},
   "outputs": [],
   "source": [
    "ax = plt.subplot(111)\n",
    "ax.plot(time_out,p_out,label='PKE solver (6 group)')\n",
    "ax.plot(t,relative_power,label='PARCS',linestyle='--')\n",
    "ax.spines['right'].set_visible(False)\n",
    "ax.spines['top'].set_visible(False)\n",
    "plt.xlabel('$t$ [s]')\n",
    "plt.ylabel('$p(t)$')\n",
    "plt.legend()\n",
    "plt.savefig('power_doppler.pgf',bbox_inches='tight',transparent=True)\n",
    "plt.show()"
   ]
  }
 ],
 "metadata": {
  "kernelspec": {
   "display_name": "Python 3",
   "language": "python",
   "name": "python3"
  },
  "language_info": {
   "codemirror_mode": {
    "name": "ipython",
    "version": 3
   },
   "file_extension": ".py",
   "mimetype": "text/x-python",
   "name": "python",
   "nbconvert_exporter": "python",
   "pygments_lexer": "ipython3",
   "version": "3.9.1"
  }
 },
 "nbformat": 4,
 "nbformat_minor": 2
}
